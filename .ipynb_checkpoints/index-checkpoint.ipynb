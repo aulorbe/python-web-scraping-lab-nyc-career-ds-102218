{
 "cells": [
  {
   "cell_type": "markdown",
   "metadata": {},
   "source": [
    "# Web Scraping Lab"
   ]
  },
  {
   "cell_type": "markdown",
   "metadata": {},
   "source": [
    "## Questions\n",
    "\n",
    "Resident Advisor is an events listing website for electronic music.\n",
    "\n",
    "Go to www.residentadvisor.net/events.  This is the url we'll be starting with for this lab.  For question 1, just use this url.  In the next two, you'll use country and region in the format: http://www.residentadvisor.net/country/region/ i.e. us/losangeles/.  Be sure to explore the web pages in both the browswer and the HTML file.  You'll need both to really understand what's going on.\n",
    "\n",
    "1. Which venues are hosting events this week?\n",
    "2. Make a function which returns the events this week given region and country (this will take two arguments)\n",
    "    - return the event name, link, and list of artists\n",
    "    - function returns list of ['event name', 'www.linkaddress.com', ['artist1','artist2','artist3']]\n",
    "3. Create a function which returns the users attending \n",
    "4. Bonus\n"
   ]
  },
  {
   "cell_type": "markdown",
   "metadata": {},
   "source": [
    "### Question 1 - Which venues are hosting events this week?"
   ]
  },
  {
   "cell_type": "code",
   "execution_count": 1,
   "metadata": {},
   "outputs": [],
   "source": [
    "import requests\n",
    "from bs4 import BeautifulSoup\n",
    "\n",
    "r = requests.get('https://www.residentadvisor.net/events')\n",
    "c = r.content\n",
    "soup = BeautifulSoup(c, 'html.parser')"
   ]
  },
  {
   "cell_type": "markdown",
   "metadata": {},
   "source": [
    "Your solution output should look like: '101bklyn', '291 Hooper St', '99 Scott Ave','Alphaville', 'Analog Bkny'..."
   ]
  },
  {
   "cell_type": "code",
   "execution_count": 119,
   "metadata": {},
   "outputs": [
    {
     "data": {
      "text/plain": [
       "['Good Room',\n",
       " 'Bossa Nova Civic Club',\n",
       " 'Output',\n",
       " '101bklyn',\n",
       " 'TBA Brooklyn',\n",
       " 'Cielo',\n",
       " 'Elsewhere',\n",
       " 'Jing Fong Restaurant',\n",
       " 'Alphaville',\n",
       " 'Output',\n",
       " 'Good Room',\n",
       " 'The Kings Hall',\n",
       " 'Nowadays',\n",
       " 'Future Space',\n",
       " 'Mood Ring',\n",
       " 'Output',\n",
       " 'TBA Brooklyn',\n",
       " 'Elsewhere',\n",
       " 'Le Bain',\n",
       " 'Bar 13',\n",
       " '101bklyn',\n",
       " 'Public Arts',\n",
       " 'H0L0',\n",
       " 'Sugar Hill Disco',\n",
       " 'Better Days',\n",
       " 'Good Room',\n",
       " 'Output',\n",
       " '99 Scott Ave',\n",
       " 'Elsewhere',\n",
       " 'H0L0',\n",
       " 'Nowadays',\n",
       " 'The Hart',\n",
       " 'Avant Gardner',\n",
       " 'Schimanski',\n",
       " '101bklyn',\n",
       " 'Chelsea Music Hall',\n",
       " 'Rose Gold',\n",
       " 'TBA Brooklyn',\n",
       " 'Tsunami Bass Brown Note',\n",
       " 'Analog Bkny',\n",
       " 'Knockdown Center',\n",
       " 'Le Bain',\n",
       " 'Jupiter Disco',\n",
       " 'Bossa Nova Civic Club',\n",
       " 'Mood Ring',\n",
       " 'TBA Brooklyn',\n",
       " '291 Hooper St',\n",
       " 'Tropicana',\n",
       " 'Sutherland - Three Dollar Bill',\n",
       " 'Black Flamingo',\n",
       " 'El Cortez / The Safari Room',\n",
       " 'Avant Gardner',\n",
       " '99 Scott Ave',\n",
       " 'Elsewhere',\n",
       " 'Avant Gardner',\n",
       " 'Nowadays',\n",
       " 'Good Room',\n",
       " 'Chelsea Music Hall',\n",
       " 'House Of Yes',\n",
       " 'Rose Gold',\n",
       " '101bklyn',\n",
       " 'Unnamed Gallery',\n",
       " 'Studio 299',\n",
       " 'Eris',\n",
       " 'Black Flamingo',\n",
       " 'Output',\n",
       " 'Bossa Nova Civic Club',\n",
       " 'Sunnyvale',\n",
       " 'Nublu',\n",
       " 'Le Bain',\n",
       " 'TBA Brooklyn',\n",
       " 'Japan Society',\n",
       " 'Forest City Lodge 180',\n",
       " 'Sutherland - Three Dollar Bill',\n",
       " \"John's House of Music\",\n",
       " 'The Hart',\n",
       " 'Good Room',\n",
       " 'Studio 299',\n",
       " 'Pioneer Works',\n",
       " 'House Of Yes',\n",
       " 'Cielo',\n",
       " 'Jupiter Disco',\n",
       " 'TBA Brooklyn',\n",
       " 'TBA Brooklyn',\n",
       " 'Bossa Nova Civic Club',\n",
       " 'Trans Pecos']"
      ]
     },
     "execution_count": 119,
     "metadata": {},
     "output_type": "execute_result"
    }
   ],
   "source": [
    "span = soup.findChildren('span')\n",
    "\n",
    "links = []\n",
    "for i in span:\n",
    "    finding_as = i.findAll('a')\n",
    "    links.append(finding_as)\n",
    "\n",
    "span_strings = [str(i) for i in x]\n",
    "\n",
    "output = []\n",
    "for i in span_strings: \n",
    "    import re\n",
    "    finding_venues = re.findall('(?<=>).*?(?=<)',i) \n",
    "    output.extend(finding_venues)\n",
    "    \n",
    "list2 = list(filter(None, output))\n",
    "list2\n",
    "\n",
    "\n",
    "# Jaime's better code: \n",
    "# spans = soup.findChildren('span')\n",
    "# for span in spans:\n",
    "#     links = span.find_all('a')\n",
    "#     for link in links:\n",
    "#         print (link.text)"
   ]
  },
  {
   "cell_type": "markdown",
   "metadata": {},
   "source": [
    "### Question 2 - Write a function to which returns the events this week given region and country."
   ]
  },
  {
   "cell_type": "code",
   "execution_count": 120,
   "metadata": {},
   "outputs": [
    {
     "data": {
      "text/plain": [
       "'https://www.residentadvisor.net/events/us/losangeles/'"
      ]
     },
     "execution_count": 120,
     "metadata": {},
     "output_type": "execute_result"
    }
   ],
   "source": [
    "def find_events(country, region):\n",
    "    base_url = 'https://www.residentadvisor.net/events/'\n",
    "    country = f'{country}/'\n",
    "    region = f'{region}/'\n",
    "    return base_url+country+region\n",
    "\n",
    "\n",
    "\n",
    "\n",
    "\n",
    "find_events('us','losangeles')\n",
    "\n",
    "    \n",
    "    \n",
    "    \n",
    "    \n",
    "    \n",
    "    \n",
    "    \n",
    "    \n",
    "    \n"
   ]
  },
  {
   "cell_type": "code",
   "execution_count": 4,
   "metadata": {},
   "outputs": [
    {
     "data": {
      "text/plain": [
       "['Housepitality:Della, Homero Espinosa, Jason Peters at F8 1192 Folsom',\n",
       " 'http://residentadvisor.net/events/1173172',\n",
       " ['Della', 'Homero Espinosa', 'Jason Peters']]"
      ]
     },
     "execution_count": 4,
     "metadata": {},
     "output_type": "execute_result"
    }
   ],
   "source": [
    "# you should be able to output something like this\n",
    "find_events('us','sanfrancisco')[0]"
   ]
  },
  {
   "cell_type": "markdown",
   "metadata": {},
   "source": [
    "### Question 3 - Create a function which returns the numbers of users attending each event this week, given country and region.  Then plot a histogram"
   ]
  },
  {
   "cell_type": "code",
   "execution_count": 8,
   "metadata": {},
   "outputs": [],
   "source": [
    "def users_attending(country, region):\n",
    "\n",
    "    \n",
    "    \n",
    "    \n",
    "    \n",
    "    "
   ]
  },
  {
   "cell_type": "code",
   "execution_count": 11,
   "metadata": {},
   "outputs": [
    {
     "data": {
      "text/plain": [
       "[8, 5, 4, 3, 49, 18, 10, 3, 2, 11]"
      ]
     },
     "execution_count": 11,
     "metadata": {},
     "output_type": "execute_result"
    }
   ],
   "source": [
    "# you should be able to output something like this\n",
    "users_attending('us','newyork')[:10]"
   ]
  },
  {
   "cell_type": "code",
   "execution_count": null,
   "metadata": {},
   "outputs": [],
   "source": [
    "#now use the function to make a histogram\n",
    "import plotly.offline as offline\n",
    "import plotly.graph_objs as go\n",
    "\n",
    "offline.init_notebook_mode()\n",
    "\n",
    "offline.iplot([go.Histogram(x = users_attending('jp','tokyo'))])"
   ]
  },
  {
   "cell_type": "markdown",
   "metadata": {},
   "source": [
    "## Bonus: Build object relations between artists, venues, and events with sqlalchemy!\n",
    "Think about what each table should include - URLs, dates, etc."
   ]
  },
  {
   "cell_type": "code",
   "execution_count": null,
   "metadata": {},
   "outputs": [],
   "source": []
  }
 ],
 "metadata": {
  "kernelspec": {
   "display_name": "Python 3",
   "language": "python",
   "name": "python3"
  },
  "language_info": {
   "codemirror_mode": {
    "name": "ipython",
    "version": 3
   },
   "file_extension": ".py",
   "mimetype": "text/x-python",
   "name": "python",
   "nbconvert_exporter": "python",
   "pygments_lexer": "ipython3",
   "version": "3.6.5"
  }
 },
 "nbformat": 4,
 "nbformat_minor": 2
}
